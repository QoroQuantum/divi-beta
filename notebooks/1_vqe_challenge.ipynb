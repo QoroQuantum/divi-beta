{
 "cells": [
  {
   "cell_type": "markdown",
   "id": "c124bb28",
   "metadata": {},
   "source": [
    "# Qoro β-Testing: VQE Challenge"
   ]
  },
  {
   "cell_type": "markdown",
   "id": "69326548",
   "metadata": {},
   "source": [
    "In this notebook, you have to figure out how to use divi to solve the following objective focusing on Quantum Chemistry:\n",
    "\n",
    "Use divi to find a good value for the bond length of an H4 molecule. The molecule parameters will be provided.\n",
    "\n",
    "**Task A** Use divi to estimate a good value of the bond length, experimenting with multiple ansaetze to see if it impacts the determined value. Use a noiseless simulator for this task. Experiment with at least 2 different optimizers and plot the loss graphs for each optimizer.\n",
    "\n",
    "**Task B** After determining a good bond length, now it's time to do some analysis. Replace the simulator with a noisy one, choosing a backend that has sufficient qubits for our molecule. Check out `divi.parallel_simulator.FAKE_BACKENDS` for a sample of fake IBM backends and their respective qubit counts for choosing a suitable noisy backend. See how much the ground state energy drifts due to the noise.\n",
    "\n",
    "**Task C** Using the Nelder-Mead optimizer, experiment with Quantum Error Mitigation (QEM) to see if it can alleviate the effects of noise. If you are not familiar with QEM, just use the example from the docs. What matters here is to compare the performances of each VQE experiment."
   ]
  },
  {
   "cell_type": "code",
   "execution_count": null,
   "id": "29ca1c8e",
   "metadata": {},
   "outputs": [],
   "source": [
    "symbols = [\"H\", \"H\", \"H\", \"H\"]\n",
    "charge = 0\n",
    "unit_coordinates = [(-3, 0, 0), (-1, 0, 0), (1, 0, 0), (3, 0, 0)]"
   ]
  },
  {
   "cell_type": "markdown",
   "id": "f8bbdfbc",
   "metadata": {},
   "source": []
  }
 ],
 "metadata": {
  "language_info": {
   "name": "python"
  }
 },
 "nbformat": 4,
 "nbformat_minor": 5
}
