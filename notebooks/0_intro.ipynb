{
 "cells": [
  {
   "cell_type": "markdown",
   "id": "779e6ef0",
   "metadata": {},
   "source": [
    "# Qoro β-Testing: Warm-up"
   ]
  },
  {
   "cell_type": "markdown",
   "id": "cdc4ac24",
   "metadata": {},
   "source": [
    "Good that you finally made it to the notebooks. It is time to do some real coding and experiment with the different features that are offered by our platform."
   ]
  },
  {
   "cell_type": "markdown",
   "id": "7112c4ea",
   "metadata": {},
   "source": [
    "The goal of this notebook is to walk you through some ready examples implemented in Divi, before we move on to the coding challenges in the next notebook. \n",
    "\n",
    "This notebook has two sections, one for the Quantum Chemistry-related features of Qoro, and another for optimization-oriented applications. Feel free to jump through to the one that is relevant the most to you, or go through both to experience the full range of Divi's capabilities."
   ]
  },
  {
   "cell_type": "markdown",
   "id": "7438f791",
   "metadata": {},
   "source": [
    "## Table of Contents\n",
    "- [Optimization](#optimization-qaoa-and-graph-partitioning-qaoa)\n",
    "- [Quantum Chemistry](#quantum-chemistry-vqe-and-hyperparameter-grid-search)"
   ]
  },
  {
   "cell_type": "markdown",
   "id": "e12c18cc",
   "metadata": {},
   "source": [
    "## Optimization: QAOA and Graph-Partitioning QAOA"
   ]
  },
  {
   "cell_type": "markdown",
   "id": "f445c075",
   "metadata": {},
   "source": [
    "### Single QAOA Problems"
   ]
  },
  {
   "cell_type": "markdown",
   "id": "e3758eb1",
   "metadata": {},
   "source": [
    "If you have been paying attention while reading the docs, you would know that the QAOA class accepts two types of input: \n",
    "- A graph (and the corresponding graph problem to be solved), \n",
    "- A minimization problem in the form of a QUBO (dense Numpy/Python arrays or sparse SciPy matrices), or Qiskit's `QuantumProgram`s.\n",
    "\n",
    "You might also remember that you can apply transformations to the circuits, one of which is observable grouping. This transform is particularly useful for optimization problems, where the Hamiltonian is compromised of mainly Pauli-$Z$ terms. As such, through the `qwc` grouping strategy, the whole Hamiltonian can be computed from a single bistring histogram."
   ]
  },
  {
   "cell_type": "markdown",
   "id": "0beb034d",
   "metadata": {},
   "source": [
    "The following code sets up an experiment for computing the maximum-clique of a graph, and its QUBO equivalent. This will help you understand the changes in the input arguments, as well the respective output formats."
   ]
  },
  {
   "cell_type": "code",
   "execution_count": 1,
   "id": "206aa861",
   "metadata": {},
   "outputs": [],
   "source": [
    "import dimod\n",
    "import networkx as nx\n",
    "\n",
    "from divi.qprog import QAOA, GraphProblem, Optimizers\n",
    "from divi.parallel_simulator import ParallelSimulator\n",
    "\n",
    "from divi.qlogger import enable_logging\n",
    "\n",
    "# This line activates logging for standalone VQE runs.\n",
    "enable_logging()"
   ]
  },
  {
   "cell_type": "code",
   "execution_count": 2,
   "id": "42b4f735",
   "metadata": {},
   "outputs": [],
   "source": [
    "def qubo_max_clique(G: nx.Graph):\n",
    "    \"\"\"\n",
    "    Generate a QUBO for the Maximum Clique problem on graph G.\n",
    "    \"\"\"\n",
    "\n",
    "    Q = {}\n",
    "    nodes = list(G.nodes)\n",
    "\n",
    "    # Objective: maximize sum x_i => linear terms with negative weight\n",
    "    for i in nodes:\n",
    "        Q[(i, i)] = -1.0\n",
    "\n",
    "    # Penalty for selecting non-connected pairs\n",
    "    for i in nodes:\n",
    "        for j in nodes:\n",
    "            if i < j and not G.has_edge(i, j):\n",
    "                # Apply the penalty coefficient for non-edges\n",
    "                Q[(i, j)] = 2\n",
    "\n",
    "    return dimod.BinaryQuadraticModel.from_qubo(Q)"
   ]
  },
  {
   "cell_type": "code",
   "execution_count": 3,
   "id": "24799d71",
   "metadata": {},
   "outputs": [],
   "source": [
    "G = nx.bull_graph()\n",
    "G_qubo = qubo_max_clique(G)"
   ]
  },
  {
   "cell_type": "markdown",
   "id": "3ac3f78d",
   "metadata": {},
   "source": [
    "#### Graph Input"
   ]
  },
  {
   "cell_type": "code",
   "execution_count": 4,
   "id": "b0b73ec5",
   "metadata": {},
   "outputs": [
    {
     "data": {
      "text/plain": [
       "[<GraphProblem.MAX_CLIQUE: ('max_clique', 'Zeros', 'Superposition')>,\n",
       " <GraphProblem.MAX_INDEPENDENT_SET: ('max_independent_set', 'Zeros', 'Superposition')>,\n",
       " <GraphProblem.MAX_WEIGHT_CYCLE: ('max_weight_cycle', 'Superposition', 'Superposition')>,\n",
       " <GraphProblem.MAXCUT: ('maxcut', 'Superposition', 'Superposition')>,\n",
       " <GraphProblem.MIN_VERTEX_COVER: ('min_vertex_cover', 'Ones', 'Superposition')>,\n",
       " <GraphProblem.EDGE_PARTITIONING: ('', '', '')>]"
      ]
     },
     "execution_count": 4,
     "metadata": {},
     "output_type": "execute_result"
    }
   ],
   "source": [
    "# To check the currently supported graph problems, simply inspect the GraphProblem Enum\n",
    "list(GraphProblem)"
   ]
  },
  {
   "cell_type": "code",
   "execution_count": 5,
   "id": "c39e5e94",
   "metadata": {},
   "outputs": [],
   "source": [
    "qaoa_instance = QAOA(\n",
    "    problem = G,\n",
    "    graph_problem=GraphProblem.MAX_CLIQUE,\n",
    "    n_layers=2,\n",
    "    initial_state=\"Recommended\",\n",
    "    optimizer=Optimizers.NELDER_MEAD,\n",
    "    max_iterations=10,\n",
    "    backend=ParallelSimulator(),\n",
    "    grouping_strategy=\"qwc\"\n",
    ")"
   ]
  },
  {
   "cell_type": "markdown",
   "id": "91025fd4",
   "metadata": {},
   "source": [
    "Let's check how many circuits need to be run to compute the Hamiltonian of the problem."
   ]
  },
  {
   "cell_type": "code",
   "execution_count": 6,
   "id": "e301aebb",
   "metadata": {},
   "outputs": [
    {
     "data": {
      "text/plain": [
       "[[Z(0), Z(1), Z(2), Z(3), Z(4)]]"
      ]
     },
     "execution_count": 6,
     "metadata": {},
     "output_type": "execute_result"
    }
   ],
   "source": [
    "qaoa_instance.meta_circuits[\"cost_circuit\"].measurement_groups"
   ]
  },
  {
   "cell_type": "markdown",
   "id": "1f3d5eb5",
   "metadata": {},
   "source": [
    "We have all the terms in a single measurement group. Great!"
   ]
  },
  {
   "cell_type": "code",
   "execution_count": 7,
   "id": "d3fc1112",
   "metadata": {},
   "outputs": [
    {
     "name": "stdout",
     "output_type": "stream",
     "text": [
      "2025-07-16 13:41:27,346 - divi.qprog.quantum_program - INFO - Finished Setup\n",
      "2025-07-16 13:41:29,526 - divi.qprog.quantum_program - INFO - Finished Iteration #1                                                                                                   \n",
      "2025-07-16 13:41:29,882 - divi.qprog.quantum_program - INFO - Finished Iteration #2                                                                                                   \n",
      "2025-07-16 13:41:30,591 - divi.qprog.quantum_program - INFO - Finished Iteration #3                                                                                                   \n",
      "2025-07-16 13:41:31,209 - divi.qprog.quantum_program - INFO - Finished Iteration #4                                                                                                   \n",
      "2025-07-16 13:41:31,824 - divi.qprog.quantum_program - INFO - Finished Iteration #5                                                                                                   \n",
      "2025-07-16 13:41:32,140 - divi.qprog.quantum_program - INFO - Finished Iteration #6                                                                                                   \n",
      "2025-07-16 13:41:32,420 - divi.qprog.quantum_program - INFO - Finished Iteration #7                                                                                                   \n",
      "2025-07-16 13:41:32,717 - divi.qprog.quantum_program - INFO - Finished Iteration #8                                                                                                   \n",
      "2025-07-16 13:41:32,991 - divi.qprog.quantum_program - INFO - Finished Iteration #9                                                                                                   \n",
      "2025-07-16 13:41:33,570 - divi.qprog.quantum_program - INFO - Finished Iteration #10                                                                                                   \n",
      "2025-07-16 13:41:33,571 - divi.qprog.quantum_program - INFO - Finished Optimization!\n"
     ]
    },
    {
     "data": {
      "text/plain": [
       "(19, 0.0)"
      ]
     },
     "execution_count": 7,
     "metadata": {},
     "output_type": "execute_result"
    }
   ],
   "source": [
    "qaoa_instance.run()"
   ]
  },
  {
   "cell_type": "markdown",
   "id": "df1dc056",
   "metadata": {},
   "source": [
    "After running the optimization loop of a QAOA program, we need to execute one additional circuit, extracting the solution bitstring and converting into our output format."
   ]
  },
  {
   "cell_type": "code",
   "execution_count": 8,
   "id": "81b01f72",
   "metadata": {},
   "outputs": [
    {
     "data": {
      "text/plain": [
       "(20, 0.0)"
      ]
     },
     "execution_count": 8,
     "metadata": {},
     "output_type": "execute_result"
    }
   ],
   "source": [
    "qaoa_instance.compute_final_solution()"
   ]
  },
  {
   "cell_type": "markdown",
   "id": "de624907",
   "metadata": {},
   "source": [
    "For graph inputs, the solution represents the IDs of the solution nodes. In this case, they represent the nodes in the maximum clique."
   ]
  },
  {
   "cell_type": "code",
   "execution_count": 9,
   "id": "696733eb",
   "metadata": {},
   "outputs": [
    {
     "data": {
      "text/plain": [
       "[0, 1, 2]"
      ]
     },
     "execution_count": 9,
     "metadata": {},
     "output_type": "execute_result"
    }
   ],
   "source": [
    "qaoa_instance.solution"
   ]
  },
  {
   "cell_type": "markdown",
   "id": "53fc62d5",
   "metadata": {},
   "source": [
    "And you can even draw the solution!"
   ]
  },
  {
   "cell_type": "code",
   "execution_count": 10,
   "id": "4018b774",
   "metadata": {},
   "outputs": [
    {
     "data": {
      "image/png": "[encoded data removed]",
      "text/plain": [
       "<Figure size 1000x800 with 1 Axes>"
      ]
     },
     "metadata": {},
     "output_type": "display_data"
    }
   ],
   "source": [
    "qaoa_instance.draw_solution()"
   ]
  },
  {
   "cell_type": "markdown",
   "id": "f02688ed",
   "metadata": {},
   "source": [
    "#### QUBO Input"
   ]
  },
  {
   "cell_type": "code",
   "execution_count": 11,
   "id": "69b4c70c",
   "metadata": {},
   "outputs": [
    {
     "name": "stderr",
     "output_type": "stream",
     "text": [
      "/tmp/ipykernel_3668086/2401303299.py:2: DeprecationWarning: bqm.to_numpy_matrix() is deprecated since dimod 0.10.0 and will be removed in 0.12.0\n",
      "  problem = G_qubo.to_numpy_matrix(),\n"
     ]
    }
   ],
   "source": [
    "qaoa_instance_qubo = QAOA(\n",
    "    problem = G_qubo.to_numpy_matrix(),\n",
    "    n_layers=2, \n",
    "    optimizer=Optimizers.NELDER_MEAD,\n",
    "    max_iterations=20,\n",
    "    backend=ParallelSimulator(),\n",
    "    grouping_strategy=\"wires\"\n",
    ")"
   ]
  },
  {
   "cell_type": "markdown",
   "id": "6fbf677f",
   "metadata": {},
   "source": [
    "For QUBO, we get back the most frequently measured bitstring."
   ]
  },
  {
   "cell_type": "code",
   "execution_count": 12,
   "id": "b22149da",
   "metadata": {},
   "outputs": [
    {
     "name": "stdout",
     "output_type": "stream",
     "text": [
      "2025-07-16 13:41:46,411 - divi.qprog.quantum_program - INFO - Finished Setup\n",
      "2025-07-16 13:41:50,023 - divi.qprog.quantum_program - INFO - Finished Iteration #1                                                                                                   \n",
      "2025-07-16 13:41:50,509 - divi.qprog.quantum_program - INFO - Finished Iteration #2                                                                                                   \n",
      "2025-07-16 13:41:51,059 - divi.qprog.quantum_program - INFO - Finished Iteration #3                                                                                                   \n",
      "2025-07-16 13:41:51,560 - divi.qprog.quantum_program - INFO - Finished Iteration #4                                                                                                   \n",
      "2025-07-16 13:41:52,046 - divi.qprog.quantum_program - INFO - Finished Iteration #5                                                                                                   \n",
      "2025-07-16 13:41:53,031 - divi.qprog.quantum_program - INFO - Finished Iteration #6                                                                                                   \n",
      "2025-07-16 13:41:54,109 - divi.qprog.quantum_program - INFO - Finished Iteration #7                                                                                                   \n",
      "2025-07-16 13:41:54,615 - divi.qprog.quantum_program - INFO - Finished Iteration #8                                                                                                   \n",
      "2025-07-16 13:41:55,139 - divi.qprog.quantum_program - INFO - Finished Iteration #9                                                                                                   \n",
      "2025-07-16 13:41:55,689 - divi.qprog.quantum_program - INFO - Finished Iteration #10                                                                                                   \n",
      "2025-07-16 13:41:56,885 - divi.qprog.quantum_program - INFO - Finished Iteration #11                                                                                                   \n",
      "2025-07-16 13:41:58,067 - divi.qprog.quantum_program - INFO - Finished Iteration #12                                                                                                   \n",
      "2025-07-16 13:41:59,114 - divi.qprog.quantum_program - INFO - Finished Iteration #13                                                                                                   \n",
      "2025-07-16 13:41:59,606 - divi.qprog.quantum_program - INFO - Finished Iteration #14                                                                                                   \n",
      "2025-07-16 13:42:00,143 - divi.qprog.quantum_program - INFO - Finished Iteration #15                                                                                                   \n",
      "2025-07-16 13:42:01,463 - divi.qprog.quantum_program - INFO - Finished Iteration #16                                                                                                   \n",
      "2025-07-16 13:42:02,007 - divi.qprog.quantum_program - INFO - Finished Iteration #17                                                                                                   \n",
      "2025-07-16 13:42:03,055 - divi.qprog.quantum_program - INFO - Finished Iteration #18                                                                                                   \n",
      "2025-07-16 13:42:04,166 - divi.qprog.quantum_program - INFO - Finished Iteration #19                                                                                                   \n",
      "2025-07-16 13:42:04,734 - divi.qprog.quantum_program - INFO - Finished Iteration #20                                                                                                   \n",
      "2025-07-16 13:42:04,736 - divi.qprog.quantum_program - INFO - Finished Optimization!\n"
     ]
    },
    {
     "data": {
      "text/plain": [
       "array([1, 1, 1, 0, 0], dtype=int32)"
      ]
     },
     "execution_count": 12,
     "metadata": {},
     "output_type": "execute_result"
    }
   ],
   "source": [
    "qaoa_instance_qubo.run()\n",
    "qaoa_instance_qubo.compute_final_solution()\n",
    "qaoa_instance_qubo.solution"
   ]
  },
  {
   "cell_type": "markdown",
   "id": "bd9c9d19",
   "metadata": {},
   "source": [
    "Indices 0, 1, and 2 are all chosen as part of the solution, which corresponds to the correct solution from before!"
   ]
  },
  {
   "cell_type": "markdown",
   "id": "84546491",
   "metadata": {},
   "source": [
    "### Solving for Big Graphs through Partitioning"
   ]
  },
  {
   "cell_type": "markdown",
   "id": "8e26ae45",
   "metadata": {},
   "source": [
    "Now for the more interesting stuff! What if you are attempting to solve some extra big graph? Maybe one that can't even fit on the hardware you have access to, or maybe one that is painstakingly slow to simulate? This is where our graph-partitioning QAOA class comes in handy."
   ]
  },
  {
   "cell_type": "code",
   "execution_count": null,
   "id": "a81b08ce",
   "metadata": {},
   "outputs": [],
   "source": []
  },
  {
   "cell_type": "markdown",
   "id": "520b5733",
   "metadata": {},
   "source": [
    "## Quantum Chemistry: VQE and Hyperparameter Grid Search"
   ]
  },
  {
   "cell_type": "markdown",
   "id": "2a3679ce",
   "metadata": {},
   "source": [
    "### Single VQE Runs"
   ]
  },
  {
   "cell_type": "markdown",
   "id": "b4d979ea",
   "metadata": {},
   "source": [
    "The following code sets up a VQE experiment for determining the ground state energy for a He-H+ ion given some bond length."
   ]
  },
  {
   "cell_type": "code",
   "execution_count": null,
   "id": "bdecb5ee",
   "metadata": {},
   "outputs": [],
   "source": [
    "from divi.qprog import VQE, VQEAnsatz\n",
    "from divi.qprog.optimizers import Optimizers\n",
    "\n",
    "from divi.parallel_simulator import ParallelSimulator\n",
    "from divi.qlogger import enable_logging\n",
    "\n",
    "# This line activates logging for standalone VQE runs.\n",
    "enable_logging()"
   ]
  },
  {
   "cell_type": "code",
   "execution_count": null,
   "id": "8b888040",
   "metadata": {},
   "outputs": [],
   "source": [
    "# Check available optimizers\n",
    "list(Optimizers)"
   ]
  },
  {
   "cell_type": "code",
   "execution_count": null,
   "id": "aebc1466",
   "metadata": {},
   "outputs": [],
   "source": [
    "# Check available ansaetze\n",
    "list(VQEAnsatz)"
   ]
  },
  {
   "cell_type": "code",
   "execution_count": null,
   "id": "4c7a933e",
   "metadata": {},
   "outputs": [],
   "source": [
    "# Set up the molecule parameters, as per Pennylane's format\n",
    "molecule_symbols = [\"He\", \"H\"]\n",
    "unit_coordinates = [(1.0, 0.0, 0.0), (-2.0, 0.0, 0.0)]\n",
    "charge = 1"
   ]
  },
  {
   "cell_type": "code",
   "execution_count": null,
   "id": "0d00d9d1",
   "metadata": {},
   "outputs": [],
   "source": [
    "# Let's experiment with some arbitrary bond length for now\n",
    "experiment_bond_length = 2.4"
   ]
  },
  {
   "cell_type": "code",
   "execution_count": null,
   "id": "3b33a0ba",
   "metadata": {},
   "outputs": [],
   "source": [
    "local_sim = ParallelSimulator(shots=5000)"
   ]
  },
  {
   "cell_type": "code",
   "execution_count": null,
   "id": "0d7e2752",
   "metadata": {},
   "outputs": [],
   "source": [
    "# Create the VQE instance\n",
    "vqe_instance = VQE(\n",
    "    # Molecule parameters\n",
    "    symbols=molecule_symbols, \n",
    "    coordinate_structure=unit_coordinates,\n",
    "    bond_length=experiment_bond_length,\n",
    "    charge=charge,\n",
    "    # Circuit parameters\n",
    "    ansatz=VQEAnsatz.UCCSD,\n",
    "    n_layers=2,\n",
    "    # Optimizer parameters\n",
    "    optimizer=Optimizers.NELDER_MEAD,\n",
    "    max_iterations=10,\n",
    "    # Backend\n",
    "    backend=local_sim,\n",
    "    # Parameter initialization seed\n",
    "    seed=31923\n",
    ")"
   ]
  },
  {
   "cell_type": "markdown",
   "id": "dcec1b15",
   "metadata": {},
   "source": [
    "Now, let's inspect the `VQE` object a bit, and see what is going on behind the scenes."
   ]
  },
  {
   "cell_type": "code",
   "execution_count": null,
   "id": "ff5dda7c",
   "metadata": {},
   "outputs": [],
   "source": [
    "# Let's check how many qubits are needed to represent the molecule's dynamics\n",
    "vqe_instance.n_qubits"
   ]
  },
  {
   "cell_type": "code",
   "execution_count": null,
   "id": "bbbc1a23",
   "metadata": {},
   "outputs": [],
   "source": [
    "# We see that we have a single meta (or template) circuit.\n",
    "# This is because the structure of the circuit won't change, only its parameters\n",
    "print(vqe_instance.meta_circuits)"
   ]
  },
  {
   "cell_type": "code",
   "execution_count": null,
   "id": "7fcecf17",
   "metadata": {},
   "outputs": [],
   "source": [
    "# If we inspect the variable measurement_groups, we can see all the hamiltonian term groups\n",
    "# that need to be measured for a single computation of the Hamiltonian (26 in this case)\n",
    "vqe_instance.meta_circuits[\"cost_circuit\"].measurement_groups"
   ]
  },
  {
   "cell_type": "markdown",
   "id": "440ede01",
   "metadata": {},
   "source": [
    "Okay, let's lauch the optimization and see what we get."
   ]
  },
  {
   "cell_type": "code",
   "execution_count": null,
   "id": "60330a52",
   "metadata": {},
   "outputs": [],
   "source": [
    "n_executed_circuits, _ = vqe_instance.run()"
   ]
  },
  {
   "cell_type": "markdown",
   "id": "bf3cdbce",
   "metadata": {},
   "source": [
    "Looks like 598 circuit executions were executed in total for the optimization round. Let's check the final loss values. Since we are using Nelder-Mead, we only have a single loss value per loss set. For optimizers like Monte-Carlo, you will have multiple loss values coming from every sampled parameter values."
   ]
  },
  {
   "cell_type": "code",
   "execution_count": null,
   "id": "2ce6a9df",
   "metadata": {},
   "outputs": [],
   "source": [
    "vqe_instance.losses[-1]"
   ]
  },
  {
   "cell_type": "markdown",
   "id": "213c7173",
   "metadata": {},
   "source": [
    "We can worry about this loss value later. For now, let's try to bring down the number of executed circuits. This can be achieved through observable grouping (mentioned in the _Circuit Transformations_ page of the docs). Let's see how much reduction we get for each grouping strategy. "
   ]
  },
  {
   "cell_type": "code",
   "execution_count": null,
   "id": "ae171e46",
   "metadata": {},
   "outputs": [],
   "source": [
    "# This is a little hack to re-generate the meta circuits without instantiating a whole new object \n",
    "vqe_instance._meta_circuit_factory.keywords[\"grouping_strategy\"] = \"wires\"\n",
    "vqe_instance._meta_circuits = vqe_instance._create_meta_circuits_dict()\n",
    "len(vqe_instance.meta_circuits[\"cost_circuit\"].measurement_groups)"
   ]
  },
  {
   "cell_type": "code",
   "execution_count": null,
   "id": "20b51071",
   "metadata": {},
   "outputs": [],
   "source": [
    "n_executed_circuits_wires, _ = vqe_instance.run()\n",
    "\n",
    "n_executed_circuits_wires - n_executed_circuits"
   ]
  },
  {
   "cell_type": "markdown",
   "id": "bab726e1",
   "metadata": {},
   "source": [
    "Those are some nice savings! At least 200 fewer circuits executed. Let's see if this impacted the final loss."
   ]
  },
  {
   "cell_type": "code",
   "execution_count": null,
   "id": "f0f91f90",
   "metadata": {},
   "outputs": [],
   "source": [
    "vqe_instance.losses[-1]"
   ]
  },
  {
   "cell_type": "markdown",
   "id": "150f9de0",
   "metadata": {},
   "source": [
    "It didn't change much, which makes sense, since grouping only affects the post-processing of the obsevations, not the actual circuit structure."
   ]
  },
  {
   "cell_type": "markdown",
   "id": "6421497f",
   "metadata": {},
   "source": [
    "### VQE Hyperparameter Sweeps (\"Grid Search\")"
   ]
  },
  {
   "cell_type": "markdown",
   "id": "5e16d66f",
   "metadata": {},
   "source": [
    "Now, we ran a VQE experiment for a single bond length, for a single type of ansatz, but what if we want to test out several to see which one has the lowest energy? This is where the hyperparameter sweep class comes in handy.\n",
    "\n",
    "Since running that many jobs in parallel might be taxing on the local simulator, we will also switch to the cloud backend in this section, so **have your API key ready**!\n",
    "\n",
    "Note how we only need to change very little to carry on the parameters from the single VQE experiment to a sweep."
   ]
  },
  {
   "cell_type": "code",
   "execution_count": null,
   "id": "6ba198f3",
   "metadata": {},
   "outputs": [],
   "source": [
    "from divi import QoroService\n",
    "from divi.qprog import VQEHyperparameterSweep\n",
    "import numpy as np"
   ]
  },
  {
   "cell_type": "code",
   "execution_count": null,
   "id": "4f64f022",
   "metadata": {},
   "outputs": [],
   "source": [
    "qoro_service = QoroService(auth_token=\"YOUR_API_KEY_HERE\", shots=5000)"
   ]
  },
  {
   "cell_type": "code",
   "execution_count": null,
   "id": "9c256be5",
   "metadata": {},
   "outputs": [],
   "source": [
    "bond_lengths_range = list(np.linspace(0.1, 3.0, 5))"
   ]
  },
  {
   "cell_type": "code",
   "execution_count": null,
   "id": "29218f65",
   "metadata": {},
   "outputs": [],
   "source": [
    "# Create the VQE instance\n",
    "vqe_sweep_instance = VQEHyperparameterSweep(\n",
    "    # Molecule parameters\n",
    "    symbols=molecule_symbols, \n",
    "    coordinate_structure=unit_coordinates,\n",
    "    bond_lengths=bond_lengths_range, # CHANGED\n",
    "    charge=charge,\n",
    "    # Circuit parameters\n",
    "    ansatze=[VQEAnsatz.UCCSD], # CHANGED\n",
    "    n_layers=2,\n",
    "    # Optimizer parameters\n",
    "    optimizer=Optimizers.NELDER_MEAD,\n",
    "    max_iterations=10,\n",
    "    # Backend\n",
    "    backend=qoro_service,\n",
    "    # Parameter initialization seed\n",
    "    seed=31923\n",
    ")"
   ]
  },
  {
   "cell_type": "code",
   "execution_count": null,
   "id": "2ce6f4ae",
   "metadata": {},
   "outputs": [],
   "source": [
    "vqe_sweep_instance.create_programs()\n",
    "\n",
    "vqe_sweep_instance.programs # We should expect to see 5 programs, one for each bond length"
   ]
  },
  {
   "cell_type": "markdown",
   "id": "118ee763",
   "metadata": {},
   "source": [
    "By running the next cell, all the jobs will begin executing.\n",
    "\n",
    "You can track the progress of each job with the help of the rendered progress bars. Note that Jupyter might indicate that the cell has finished executing right away, but this is a bug since Jupyter does not play well with our code, so only rely on the rendered progress bars to determine whether all jobs are done."
   ]
  },
  {
   "cell_type": "code",
   "execution_count": null,
   "id": "ef8b519e",
   "metadata": {},
   "outputs": [],
   "source": [
    "vqe_sweep_instance.run()"
   ]
  },
  {
   "cell_type": "code",
   "execution_count": null,
   "id": "2f371dca",
   "metadata": {},
   "outputs": [],
   "source": [
    "(best_ansatz, best_bond_length), lowest_energy = vqe_sweep_instance.aggregate_results()\n",
    "\n",
    "print(f\"Bond length corresponding to lowest energy: {best_bond_length}\")\n",
    "print(f\"Lowest energy achieved: {round(lowest_energy, 5)}\")"
   ]
  },
  {
   "cell_type": "code",
   "execution_count": null,
   "id": "b8acc416",
   "metadata": {},
   "outputs": [],
   "source": [
    "vqe_sweep_instance.visualize_results()"
   ]
  },
  {
   "cell_type": "markdown",
   "id": "44cdd8d4",
   "metadata": {},
   "source": [
    "We can go the extra mile and extract the losses from every job during with optimization."
   ]
  },
  {
   "cell_type": "code",
   "execution_count": null,
   "id": "034fb8a9",
   "metadata": {},
   "outputs": [],
   "source": [
    "import matplotlib.pyplot as plt\n",
    "\n",
    "x = list(range(10))\n",
    "\n",
    "for program in vqe_sweep_instance.programs.values():\n",
    "    curr_losses = [loss[0] for loss in program.losses]\n",
    "    plt.plot(x, curr_losses, label=f\"{program.bond_length:.3f}\")\n",
    "\n",
    "plt.xlabel(\"Iteration\")\n",
    "plt.ylabel(\"Energy\")\n",
    "plt.legend(title=\"Bond Length\")\n",
    "plt.title(\"Optimization Losses\")\n",
    "plt.show()"
   ]
  }
 ],
 "metadata": {
  "kernelspec": {
   "display_name": "qoro-dev",
   "language": "python",
   "name": "python3"
  },
  "language_info": {
   "codemirror_mode": {
    "name": "ipython",
    "version": 3
   },
   "file_extension": ".py",
   "mimetype": "text/x-python",
   "name": "python",
   "nbconvert_exporter": "python",
   "pygments_lexer": "ipython3",
   "version": "3.11.13"
  }
 },
 "nbformat": 4,
 "nbformat_minor": 5
}
