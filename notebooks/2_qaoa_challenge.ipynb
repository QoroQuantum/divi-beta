{
 "cells": [
  {
   "cell_type": "markdown",
   "id": "d8369011",
   "metadata": {},
   "source": [
    "# Qoro β-Testing: QAOA Challenge"
   ]
  },
  {
   "cell_type": "markdown",
   "id": "428452bf",
   "metadata": {},
   "source": [
    "In this notebook, you have to figure out how to use divi to solve the following objective focusing on optimization:\n",
    "\n",
    "Create a custom `ProgramBatch` class that compares the performance of QAOA on the graph representation and QUBO representation of the same graph problem.\n",
    "\n",
    "To recap, `ProgramBatch` is the abstract class that orchestrates the execution and tracking of several `Program`s and aggregating their results at the end of execution. A class inheriting it must implement two methods: `create_programs`, which instantiates a Python dictionary mapping a program's ID (user-defined) to `Program` instances, and `aggregate_results`, where a developer is expected to extract the results from each individual program and produce a more meaningful high-level results. \n",
    "\n",
    "Therefore, you can follow this rough recipe for creating our `GraphRepresentationComparison` class:\n",
    "- In `__init__`, you can replicate some of the graph-related arguments from the QAOA class. Inside the function, you can create the QUBO instance of the graph problem (maybe an LLM will be useful here). Feel free to also include any optimization hyperparameters. **Make sure to pass a backend to the parent class at the beginning of the function using `super().__init__(backend=backend)`**.\n",
    "- In `create_programs`, you will generate two `QAOA` programs, potentially with the keys `graph` and `qubo`. Make sure you are passing the respective graph arguments to the graph version. In addition to the typical arguments, you should add the following keyword arguments if you want to be able to access losses and probabilities, or to support progress bars:\n",
    "```python\n",
    "        self.programs[prog_id] = self._constructor(\n",
    "            ##### Your Program Args Here #####\n",
    "            ##### Your Program Args Here #####\n",
    "            ##### Your Program Args Here #####\n",
    "            job_id=prog_id,\n",
    "            # self._manager is already instantiated by the parent class, so just \n",
    "            losses=self._manager.list(),\n",
    "            probs=self._manager.dict(),\n",
    "            final_params=self._manager.list(),\n",
    "            # Same for self._queue. You just need to provide it to the individual programs.\n",
    "            progress_queue=self._queue,\n",
    "        )\n",
    "```\n",
    "- After that, you can invoke `run()` followed by `compute_final_solutions()`, similar to how you did it in the intro notebook.\n",
    "- Finally, in `aggregate_results`, extract whichever you feel like is useful for your comparison. Maybe you want to access the `losses`? Or the probabilities through `probs`? Or the `final_params`? Feel free to contrast the results in a meaninful way. Just make sure to add this snippet at the beginning of your function as a safeguard in case there was still any code being executed from the circuit runs:\n",
    "```python\n",
    "        if self._executor is not None:\n",
    "            self.wait_for_all()\n",
    "```"
   ]
  },
  {
   "cell_type": "markdown",
   "id": "998ddcbb",
   "metadata": {},
   "source": []
  }
 ],
 "metadata": {
  "language_info": {
   "name": "python"
  }
 },
 "nbformat": 4,
 "nbformat_minor": 5
}
